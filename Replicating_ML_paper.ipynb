{
 "cells": [
  {
   "cell_type": "markdown",
   "id": "c18b366b-e54a-41fe-b7a6-4c45999f602b",
   "metadata": {},
   "source": [
    "# Pytorch paper replicating\n",
    "\n",
    "The goal of machine learning research paper replicating is: turn a ML research paper into usable code.\n",
    "\n",
    "In this notebook, we're going to be replicating the Vision Transformer (ViT) architecture/paper with PyTorch."
   ]
  },
  {
   "cell_type": "markdown",
   "id": "5d4d3938-dbee-40e9-bc6b-1c64bb0eeb85",
   "metadata": {},
   "source": [
    "## Get Setup"
   ]
  },
  {
   "cell_type": "code",
   "execution_count": 2,
   "id": "56ac810b-7c4e-4ac5-9a4a-dfdb236c4163",
   "metadata": {},
   "outputs": [],
   "source": [
    "import torch as pt\n",
    "import torchvision\n",
    "import pandas as pd\n",
    "import numpy as np\n",
    "import matplotlib.pyplot as plt\n",
    "import torchinfo\n",
    "from torch import nn\n",
    "import helper_functions\n",
    "from torchvision import transforms"
   ]
  },
  {
   "cell_type": "code",
   "execution_count": null,
   "id": "17b4b5ae-5b17-4ef6-914d-7ca343cfa448",
   "metadata": {},
   "outputs": [],
   "source": []
  }
 ],
 "metadata": {
  "kernelspec": {
   "display_name": "Python 3 (ipykernel)",
   "language": "python",
   "name": "python3"
  },
  "language_info": {
   "codemirror_mode": {
    "name": "ipython",
    "version": 3
   },
   "file_extension": ".py",
   "mimetype": "text/x-python",
   "name": "python",
   "nbconvert_exporter": "python",
   "pygments_lexer": "ipython3",
   "version": "3.10.13"
  }
 },
 "nbformat": 4,
 "nbformat_minor": 5
}
